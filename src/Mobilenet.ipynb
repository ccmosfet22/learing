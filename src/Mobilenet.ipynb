{
 "cells": [
  {
   "cell_type": "code",
   "execution_count": 1,
   "metadata": {},
   "outputs": [
    {
     "name": "stderr",
     "output_type": "stream",
     "text": [
      "Using TensorFlow backend.\n"
     ]
    }
   ],
   "source": [
    "import keras\n",
    "from keras import backend as K\n",
    "from keras.layers.core import Dense, Activation\n",
    "from keras.optimizers import Adam\n",
    "from keras.metrics import categorical_crossentropy\n",
    "from keras.preprocessing.image import ImageDataGenerator\n",
    "from keras.preprocessing import image\n",
    "from keras.models import Model\n",
    "from keras.applications import imagenet_utils\n",
    "from keras.layers import Dense,GlobalAveragePooling2D\n",
    "# from keras.applications import MobileNet\n",
    "from keras.applications import MobileNetV2\n",
    "from keras.applications.mobilenet_v2 import preprocess_input\n",
    "import numpy as np\n",
    "from IPython.display import Image\n",
    "from keras.optimizers import Adam\n",
    "import os.path\n",
    "from keras.callbacks import EarlyStopping, ModelCheckpoint\n",
    "\n"
   ]
  },
  {
   "cell_type": "code",
   "execution_count": 2,
   "metadata": {},
   "outputs": [
    {
     "name": "stdout",
     "output_type": "stream",
     "text": [
      "WARNING:tensorflow:From C:\\Users\\YF\\Anaconda3\\envs\\tf-gpu\\lib\\site-packages\\keras\\backend\\tensorflow_backend.py:246: The name tf.get_default_graph is deprecated. Please use tf.compat.v1.get_default_graph instead.\n",
      "\n",
      "WARNING:tensorflow:From C:\\Users\\YF\\Anaconda3\\envs\\tf-gpu\\lib\\site-packages\\keras\\backend\\tensorflow_backend.py:1836: The name tf.nn.fused_batch_norm is deprecated. Please use tf.compat.v1.nn.fused_batch_norm instead.\n",
      "\n"
     ]
    }
   ],
   "source": [
    "base_model=MobileNetV2(input_shape=(224,224,3),weights='imagenet',include_top=False) #imports the mobilenet model and discards the last 1000 neuron layer.\n",
    "\n",
    "x=base_model.output\n",
    "x=GlobalAveragePooling2D()(x)\n",
    "x=Dense(1024,activation='relu')(x) #we add dense layers so that the model can learn more complex functions and classify for better results.\n",
    "x=Dense(1024,activation='relu')(x) #dense layer 2\n",
    "x=Dense(512,activation='relu')(x) #dense layer 3\n",
    "preds=Dense(2,activation='softmax')(x) #final layer with softmax activation"
   ]
  },
  {
   "cell_type": "code",
   "execution_count": 3,
   "metadata": {},
   "outputs": [],
   "source": [
    "model=Model(inputs=base_model.input,outputs=preds)"
   ]
  },
  {
   "cell_type": "code",
   "execution_count": 4,
   "metadata": {},
   "outputs": [
    {
     "name": "stdout",
     "output_type": "stream",
     "text": [
      "<keras.engine.input_layer.InputLayer object at 0x0000015C60A6D688>\n",
      "<keras.layers.convolutional.ZeroPadding2D object at 0x0000015C60A6DEC8>\n",
      "<keras.layers.convolutional.Conv2D object at 0x0000015C60A6DDC8>\n",
      "<keras.layers.normalization.BatchNormalization object at 0x0000015C60A9ECC8>\n",
      "<keras.layers.advanced_activations.ReLU object at 0x0000015C60A9EB08>\n",
      "<keras.layers.convolutional.DepthwiseConv2D object at 0x0000015C60A9EEC8>\n",
      "<keras.layers.normalization.BatchNormalization object at 0x0000015C60B2DCC8>\n",
      "<keras.layers.advanced_activations.ReLU object at 0x0000015C60B3BD48>\n",
      "<keras.layers.convolutional.Conv2D object at 0x0000015C60BBC208>\n",
      "<keras.layers.normalization.BatchNormalization object at 0x0000015C60C95E88>\n",
      "<keras.layers.convolutional.Conv2D object at 0x0000015C60CAEAC8>\n",
      "<keras.layers.normalization.BatchNormalization object at 0x0000015C60CE1088>\n",
      "<keras.layers.advanced_activations.ReLU object at 0x0000015C60CE1688>\n",
      "<keras.layers.convolutional.ZeroPadding2D object at 0x0000015C60CF4C88>\n",
      "<keras.layers.convolutional.DepthwiseConv2D object at 0x0000015C66E34BC8>\n",
      "<keras.layers.normalization.BatchNormalization object at 0x0000015C66E3B248>\n",
      "<keras.layers.advanced_activations.ReLU object at 0x0000015C66E40E08>\n",
      "<keras.layers.convolutional.Conv2D object at 0x0000015C66E5CE08>\n",
      "<keras.layers.normalization.BatchNormalization object at 0x0000015C66F8FDC8>\n",
      "<keras.layers.convolutional.Conv2D object at 0x0000015C66FA3348>\n"
     ]
    }
   ],
   "source": [
    "for layer in model.layers:\n",
    "    layer.trainable=False\n",
    "# or if we want to set the first 20 layers of the network to be non-trainable\n",
    "for layer in model.layers[:20]:\n",
    "    layer.trainable=False\n",
    "    print(layer)\n",
    "for layer in model.layers[20:]:\n",
    "    layer.trainable=True"
   ]
  },
  {
   "cell_type": "code",
   "execution_count": 5,
   "metadata": {},
   "outputs": [
    {
     "name": "stdout",
     "output_type": "stream",
     "text": [
      "Found 31590 images belonging to 2 classes.\n"
     ]
    }
   ],
   "source": [
    "train_datagen=ImageDataGenerator(preprocessing_function=preprocess_input) #included in our dependencies\n",
    "\n",
    "train_generator=train_datagen.flow_from_directory(\"./training_dataset/\",\n",
    "                                                 target_size=(224,224),\n",
    "                                                 color_mode='rgb',\n",
    "                                                 batch_size=32,\n",
    "                                                 class_mode='categorical',\n",
    "                                                 shuffle=True)"
   ]
  },
  {
   "cell_type": "code",
   "execution_count": 6,
   "metadata": {
    "scrolled": true
   },
   "outputs": [
    {
     "name": "stdout",
     "output_type": "stream",
     "text": [
      "WARNING:tensorflow:From C:\\Users\\YF\\Anaconda3\\envs\\tf-gpu\\lib\\site-packages\\keras\\backend\\tensorflow_backend.py:3304: The name tf.log is deprecated. Please use tf.math.log instead.\n",
      "\n",
      "WARNING:tensorflow:From C:\\Users\\YF\\Anaconda3\\envs\\tf-gpu\\lib\\site-packages\\tensorflow_core\\python\\ops\\math_grad.py:1424: where (from tensorflow.python.ops.array_ops) is deprecated and will be removed in a future version.\n",
      "Instructions for updating:\n",
      "Use tf.where in 2.0, which has the same broadcast rule as np.where\n",
      "Epoch 1/10\n",
      "987/987 [==============================] - 356s 361ms/step - loss: 0.0429 - acc: 0.9907\n",
      "Epoch 2/10\n"
     ]
    },
    {
     "name": "stderr",
     "output_type": "stream",
     "text": [
      "C:\\Users\\YF\\Anaconda3\\envs\\tf-gpu\\lib\\site-packages\\keras\\callbacks.py:570: RuntimeWarning: Early stopping conditioned on metric `test_loss` which is not available. Available metrics are: loss,acc\n",
      "  (self.monitor, ','.join(list(logs.keys()))), RuntimeWarning\n"
     ]
    },
    {
     "name": "stdout",
     "output_type": "stream",
     "text": [
      "987/987 [==============================] - 306s 311ms/step - loss: 0.0176 - acc: 0.9945\n",
      "Epoch 3/10\n",
      "987/987 [==============================] - 311s 315ms/step - loss: 0.0358 - acc: 0.9923\n",
      "Epoch 4/10\n",
      "987/987 [==============================] - 306s 311ms/step - loss: 0.0174 - acc: 0.9943\n",
      "Epoch 5/10\n",
      "987/987 [==============================] - 313s 317ms/step - loss: 0.0130 - acc: 0.9952\n",
      "Epoch 6/10\n",
      "987/987 [==============================] - 302s 306ms/step - loss: 0.0193 - acc: 0.9941\n",
      "Epoch 7/10\n",
      "987/987 [==============================] - 334s 338ms/step - loss: 0.0130 - acc: 0.9950\n",
      "Epoch 8/10\n",
      "987/987 [==============================] - 315s 319ms/step - loss: 0.0105 - acc: 0.9954\n",
      "Epoch 9/10\n",
      "987/987 [==============================] - 303s 307ms/step - loss: 0.0373 - acc: 0.9923\n",
      "Epoch 10/10\n",
      "987/987 [==============================] - 312s 316ms/step - loss: 0.0219 - acc: 0.9948\n"
     ]
    },
    {
     "data": {
      "text/plain": [
       "<keras.callbacks.History at 0x15ddbae5588>"
      ]
     },
     "execution_count": 6,
     "metadata": {},
     "output_type": "execute_result"
    }
   ],
   "source": [
    "earlystop = EarlyStopping(monitor='test_loss', patience=3, verbose=1)\n",
    "# model.fit(x_train,y_train,batch_size=100,epochs=100, validation_data = (x_test, y_test),callbacks = [earlystop])\n",
    "\n",
    "model.compile(optimizer='Adam',loss='categorical_crossentropy',metrics=['accuracy'])\n",
    "# Adam optimizer\n",
    "# loss function will be categorical cross entropy\n",
    "# evaluation metric will be accuracy\n",
    "\n",
    "step_size_train=train_generator.n//train_generator.batch_size\n",
    "model.fit_generator(generator=train_generator,\n",
    "                   steps_per_epoch=step_size_train,\n",
    "                   epochs=10,\n",
    "                   callbacks = [earlystop])\n",
    "\n"
   ]
  },
  {
   "cell_type": "code",
   "execution_count": 7,
   "metadata": {},
   "outputs": [],
   "source": [
    "%matplotlib inline\n",
    "import matplotlib.pyplot as plt\n",
    "\n",
    "def load_image(img_path, show=False):\n",
    "\n",
    "    img = image.load_img(img_path, target_size=(224, 224))\n",
    "    img_tensor = image.img_to_array(img)                    # (height, width, channels)\n",
    "    img_tensor = np.expand_dims(img_tensor, axis=0)         # (1, height, width, channels), add a dimension because the model expects this shape: (batch_size, height, width, channels)\n",
    "    img_tensor /= 255.                                      # imshow expects values in the range [0, 1]\n",
    "\n",
    "    if show:\n",
    "        plt.imshow(img_tensor[0])                           \n",
    "        plt.axis('on')\n",
    "        plt.show()\n",
    "\n",
    "    return img_tensor"
   ]
  },
  {
   "cell_type": "code",
   "execution_count": 10,
   "metadata": {},
   "outputs": [
    {
     "data": {
      "image/png": "[encoded data removed]",
      "text/plain": [
       "<Figure size 432x288 with 1 Axes>"
      ]
     },
     "metadata": {
      "needs_background": "light"
     },
     "output_type": "display_data"
    },
    {
     "data": {
      "text/plain": [
       "0"
      ]
     },
     "execution_count": 10,
     "metadata": {},
     "output_type": "execute_result"
    }
   ],
   "source": [
    "img_path = './train_data/abnormal/06f1a458-feb8-45e4-82c9-3340942244c3-DepBack-09_36_41.791-S10-W16.2.png'\n",
    "new_image = load_image(img_path,show=True)\n",
    "pred = model.predict(new_image)\n",
    "predict=np.argmax(pred,axis=1)\n",
    "maxindex = int(np.argmax(pred))\n",
    "maxindex"
   ]
  },
  {
   "cell_type": "code",
   "execution_count": 132,
   "metadata": {},
   "outputs": [
    {
     "name": "stdout",
     "output_type": "stream",
     "text": [
      "2564\n"
     ]
    }
   ],
   "source": [
    "normal_result = []\n",
    "error_normal = []\n",
    "path = \"./train_data/normal/\"\n",
    "\n",
    "for image_file in os.listdir(path):\n",
    "\n",
    "    new_image = load_image(path+image_file)\n",
    "    pred = model.predict(new_image)\n",
    "    predict=np.argmax(pred,axis=1)\n",
    "    normal_result.append(predict[0])\n",
    "\n",
    "print(normal_result.count(0))"
   ]
  },
  {
   "cell_type": "code",
   "execution_count": 133,
   "metadata": {},
   "outputs": [],
   "source": [
    "abnormal_result = []\n",
    "error = []\n",
    "path = \"./train_data/abnormal/\"\n",
    "\n",
    "for image_file in os.listdir(path):\n",
    "#     print(image_file)\n",
    "    new_image = load_image(path+image_file)\n",
    "    pred = model.predict(new_image)\n",
    "    predict=np.argmax(pred,axis=1)\n",
    "    abnormal_result.append(predict[0])\n",
    "    if predict[0] == 0:\n",
    "        error.append(image_file)\n"
   ]
  },
  {
   "cell_type": "code",
   "execution_count": 134,
   "metadata": {},
   "outputs": [
    {
     "name": "stdout",
     "output_type": "stream",
     "text": [
      "0\n",
      "2564\n",
      "0\n",
      "845\n"
     ]
    }
   ],
   "source": [
    "print(normal_result.count(1))\n",
    "print(len(normal_result))\n",
    "print(abnormal_result.count(1))\n",
    "print(len(abnormal_result))"
   ]
  },
  {
   "cell_type": "code",
   "execution_count": 135,
   "metadata": {},
   "outputs": [],
   "source": [
    "model.save(\"mobile_v2_2.h5\")"
   ]
  },
  {
   "cell_type": "code",
   "execution_count": 115,
   "metadata": {},
   "outputs": [],
   "source": [
    "train_datagen=ImageDataGenerator(preprocessing_function=preprocess_input)\n",
    "# model.evaluate_generator(generator=train_datagen,\n",
    "#                          steps=900,\n",
    "#                          verbose=1)"
   ]
  },
  {
   "cell_type": "code",
   "execution_count": null,
   "metadata": {},
   "outputs": [],
   "source": []
  }
 ],
 "metadata": {
  "kernelspec": {
   "display_name": "Python 3",
   "language": "python",
   "name": "python3"
  },
  "language_info": {
   "codemirror_mode": {
    "name": "ipython",
    "version": 3
   },
   "file_extension": ".py",
   "mimetype": "text/x-python",
   "name": "python",
   "nbconvert_exporter": "python",
   "pygments_lexer": "ipython3",
   "version": "3.7.5"
  }
 },
 "nbformat": 4,
 "nbformat_minor": 4
}
